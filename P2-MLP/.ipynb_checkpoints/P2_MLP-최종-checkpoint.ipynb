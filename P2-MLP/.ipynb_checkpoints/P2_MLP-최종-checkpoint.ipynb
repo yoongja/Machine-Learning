{
 "cells": [
  {
   "cell_type": "markdown",
   "metadata": {
    "id": "PlmV38vmX7PJ"
   },
   "source": [
    "# [SWCON253] Machine Learning\n",
    "Teaching Assistant: Hyunmin Ban (hmban1996@khu.ac.kr)\n",
    "\n",
    "Professor: Hui Yong Kim (hykim.v@khu.ac.kr)"
   ]
  },
  {
   "cell_type": "markdown",
   "metadata": {
    "id": "_5WRVKRjX7PX"
   },
   "source": [
    "---"
   ]
  },
  {
   "cell_type": "markdown",
   "metadata": {
    "id": "KcuhmeiVX7PY"
   },
   "source": [
    "# P2:  Deep Learning Framwork: Pytorch를 이용하여 MLP 구현 (10점)\n",
    "\n",
    "### 학습목표\n",
    "- pytorch를 사용하여 구현된 MLP 구조를 이해하고 수정할수 있다.\n",
    "- Fashinon-MNIST 문제를 스스로 해결하면서 딥러닝 학습과정을 이해하고 하이퍼파라미터를 튜닝을 할 수 있다.\n",
    "\n",
    "### 실습내용\n",
    "pytorch를 사용하여 구현 되어 있는 MLP를 통해 Fashion-MNIST 데이터셋을 분류하는 classfier를 학습합니다.\n",
    "\n",
    "실습은 다음 순서로 진행됩니다.\n",
    "- 1) Fashon-MNIST 데이터셋 설명\n",
    "- 2) Data loading\n",
    "- 3) Multilayer Perceptron Model\n",
    "- 4) Training\n",
    "- 5) Evaluation\n",
    "- 6) Discussion\n",
    "\n",
    "아래 코드에는 2개의 퍼셉트론은 이용한 MLP 모델이 정의 되어 있습니다.\n",
    "실습을 시작하기전에 이 노트북 파일을 읽고 모든 셀을 실행해하여 올바르게 작동하는지 확인하세요.<br>\n",
    "이후에 아키텍쳐를 마음껏 변경하여 최고의 성능이 나오도록 수정해 보세요.\n",
    "\n",
    "다음은 변경 가능한 부분입니다.\n",
    "- activation 함수 (logistic sigmoid, tanh, relu, leaky relu, ...)\n",
    "- learning rate\n",
    "- hidden layers 갯수\n",
    "- epochs\n",
    "- minibatch size\n",
    "\n",
    "그러나 다음 사항은 변경하지 마세요.\n",
    "- 가중치 초기화 방법\n",
    "- 랜덤시드\n",
    "- 최적화 방법, 학습 방법\n",
    "\n",
    "layer를 추가하여 2개 이상의 hidden layer를 구성할 수 있게 구현하세요. <br>\n",
    "\n",
    "수정가능한 셀은 아래 주석으로 확실하게 하이라이트되어 표시되어 있습니다.\n",
    "\n",
    "```\n",
    "############################################################\n",
    "# 변경 가능한 셀\n",
    "############################################################\n",
    "```\n",
    "\n",
    "### 점수\n",
    "**Test set 기준**\n",
    "\n",
    "- 정확도 85% 이상 2점\n",
    "- 정확도 86% 이상 4점\n",
    "- 정확도 87% 이상 6점\n",
    "- 정확도 88% 이상 8점\n",
    "\n",
    "**구현**\n",
    "- Layer 수 2개 이상으로 구현: 2점\n",
    "\n",
    "`.ipynb 파일과 함께 .html 파일 (File -> export as -> HTML)도 함께 제출하세요. 하나만 제출할시 감점이 있습니다.`"
   ]
  },
  {
   "cell_type": "code",
   "execution_count": 1,
   "metadata": {
    "id": "PetGGfVwX7Pa"
   },
   "outputs": [],
   "source": [
    "import torch\n",
    "import os\n",
    "import numpy as np\n",
    "import time\n",
    "import random\n",
    "from PIL import Image\n",
    "from torch.utils.data import Dataset\n",
    "from torchvision import transforms\n",
    "from torch.utils.data import DataLoader\n",
    "import torch.nn.functional as F\n",
    "# Document: https://pytorch.org/docs/stable/nn.functional.html\n",
    "import matplotlib.pyplot as plt\n",
    "# Document: https://matplotlib.org/stable/api/_as_gen/matplotlib.pyplot.html\n",
    "%matplotlib inline"
   ]
  },
  {
   "cell_type": "code",
   "execution_count": 2,
   "metadata": {
    "id": "CPGdg_8vX7Pc"
   },
   "outputs": [],
   "source": [
    "# 이 부분은 절대 변경하지 마세요.\n",
    "\n",
    "RANDOM_SEED = 123\n",
    "DEVICE = torch.device('cuda:0' if torch.cuda.is_available() else 'cpu')"
   ]
  },
  {
   "cell_type": "markdown",
   "metadata": {
    "id": "459vlPvAX7Pc"
   },
   "source": [
    "## 1) Dataset 설명"
   ]
  },
  {
   "cell_type": "markdown",
   "metadata": {
    "id": "ypkDkHRlX7Pd"
   },
   "source": [
    "이 데이터셋은 기존의 MNIST와 비슷하게 10개의 클래스로 이루어진 데이터셋입니다. 또한 흑백의 28x28크기, 60k개의 학습용 이미지와 10k개의 테스트용 이미지로 구성 되어 있는것과 같이 MNIST와 대부분 비슷한 구조로 이뤄져 있습니다. \n",
    "\n",
    "아래는 데이터셋의 샘플 이미지 입니다.\n",
    "\n",
    "![](https://github.com/zalandoresearch/fashion-mnist/raw/master/doc/img/fashion-mnist-sprite.png)\n",
    "\n",
    "출처: https://github.com/zalandoresearch/fashion-mnist)\n",
    "\n"
   ]
  },
  {
   "cell_type": "markdown",
   "metadata": {
    "id": "2vJ-94RbX7Pf"
   },
   "source": [
    "데이터셋의 10개의 클래스는 다음과 같습니다.\n",
    "\n",
    "\n",
    "| Label | Description |\n",
    "| --- | --- |\n",
    "| 0 | T-shirt/top |\n",
    "| 1 | Trouser |\n",
    "| 2 | Pullover |\n",
    "| 3 | Dress |\n",
    "| 4 | Coat |\n",
    "| 5 | Sandal |\n",
    "| 6 | Shirt |\n",
    "| 7 | Sneaker |\n",
    "| 8 | Bag |\n",
    "| 9 | Ankle boot |"
   ]
  },
  {
   "cell_type": "markdown",
   "metadata": {
    "id": "UBr3POL3X7Pg"
   },
   "source": [
    "## 2) Dataset Loader"
   ]
  },
  {
   "cell_type": "code",
   "execution_count": 3,
   "metadata": {
    "id": "OpoddjopX7Pi"
   },
   "outputs": [],
   "source": [
    "import torch\n",
    "from PIL import Image\n",
    "from torchvision.datasets import FashionMNIST\n",
    "from torchvision import transforms\n",
    "from torch.utils.data import DataLoader\n",
    "\n",
    "import os"
   ]
  },
  {
   "cell_type": "code",
   "execution_count": 4,
   "metadata": {
    "id": "Ih612uSeX7Pj"
   },
   "outputs": [],
   "source": [
    "# Train 데이터 로딩시 이미지 데이터 전처리를 Transforms를 통해 할 수 있습니다.\n",
    "# ToTensor는 PIL 형태의 이미지나 ndarray 를 PyTorch 가 이해할 수 있는 tensor 자료형으로 바꾸어 주는 역할을 하며\n",
    "# Random Flip, Random Crop 등을 사용하여 Data augmentation을 수행하고 이를 통해 좋은 성능을 얻을 수 있습니다.\n",
    "# 하지만, 이번 실습에서는 사용하지 않습니다.\n",
    "# Document: https://pytorch.org/vision/stable/transforms.html\n",
    "custom_train_transform = transforms.Compose([  \n",
    "                                             transforms.ToTensor(),\n",
    "                                             transforms.Normalize(mean=(0.5,), std=(0.5,))\n",
    "])"
   ]
  },
  {
   "cell_type": "code",
   "execution_count": 5,
   "metadata": {
    "id": "On0kRnT5X7Pk"
   },
   "outputs": [],
   "source": [
    "# Test 데이터 로딩시 데이터 Transform\n",
    "# Testset의 Trainsform은 Training set 과 다르게 랜덤하게 변경되면 안됩니다.\n",
    "# 이번 실습에서는 사용하지 않습니다.\n",
    "custom_test_transform = transforms.Compose([\n",
    "                                             transforms.ToTensor(),\n",
    "                                             transforms.Normalize(mean=(0.5,), std=(0.5,))\n",
    "])"
   ]
  },
  {
   "cell_type": "code",
   "execution_count": 6,
   "metadata": {
    "id": "x8E-UjIcX7Pm"
   },
   "outputs": [],
   "source": [
    "############################################################\n",
    "# 변경 가능한 셀\n",
    "############################################################\n",
    "\n",
    "BATCH_SIZE = 64 # 60000을 사용하면 Full-Batch 학습"
   ]
  },
  {
   "cell_type": "code",
   "execution_count": 7,
   "metadata": {
    "id": "ei881yLcX7Pm"
   },
   "outputs": [],
   "source": [
    "train_dataset = FashionMNIST(\".\", train=True, download=True, transform=custom_train_transform)\n",
    "\n",
    "train_loader = DataLoader(dataset=train_dataset,\n",
    "                          batch_size=BATCH_SIZE,\n",
    "                          shuffle=True,\n",
    "                          drop_last=True,\n",
    "                          num_workers=2)\n",
    "\n",
    "\n",
    "test_dataset = FashionMNIST(\".\", train=False, download=True, transform=custom_test_transform)\n",
    "\n",
    "test_loader = DataLoader(dataset=test_dataset,\n",
    "                         batch_size=BATCH_SIZE,\n",
    "                         shuffle=False,\n",
    "                         num_workers=2)"
   ]
  },
  {
   "cell_type": "markdown",
   "metadata": {
    "id": "vfW87TE5X7Pn"
   },
   "source": [
    "아래 셀은 데이터셋이 잘 Load 되었는지 확인하는 테스트용 코드입니다."
   ]
  },
  {
   "cell_type": "code",
   "execution_count": 8,
   "metadata": {
    "colab": {
     "base_uri": "https://localhost:8080/"
    },
    "id": "axEhnzqcX7Pn",
    "outputId": "23cd4098-3002-4a1a-9c96-9bfac9115d8c"
   },
   "outputs": [
    {
     "name": "stdout",
     "output_type": "stream",
     "text": [
      "Epoch: 1 | Batch index: 0 | Batch size: 64\n",
      "break minibatch for-loop\n",
      "Epoch: 2 | Batch index: 0 | Batch size: 64\n",
      "break minibatch for-loop\n"
     ]
    }
   ],
   "source": [
    "num_epochs = 2\n",
    "for epoch in range(num_epochs):\n",
    "\n",
    "    for batch_idx, (x, y) in enumerate(train_loader):\n",
    "        \n",
    "        print('Epoch:', epoch+1, end='')\n",
    "        print(' | Batch index:', batch_idx, end='')\n",
    "        print(' | Batch size:', y.size()[0])\n",
    "        \n",
    "        x = x.to(DEVICE)\n",
    "        y = y.to(DEVICE)\n",
    "        \n",
    "        print('break minibatch for-loop')\n",
    "        break"
   ]
  },
  {
   "cell_type": "markdown",
   "metadata": {
    "id": "izAXxcC7X7Pp"
   },
   "source": [
    "## 3) Multilayer Perceptron Model\n",
    "\n",
    "아래 셀은 MLP모델을 정의하는 부분입니다. 이 과제에서 메인 부분입니다.<br>\n",
    "Hidden layer이 2개가 되도록 변경하세요. 필요에 따라 3개 이상으로 늘려도 됩니다."
   ]
  },
  {
   "cell_type": "code",
   "execution_count": 9,
   "metadata": {
    "id": "NlvtBsiaX7Pp"
   },
   "outputs": [],
   "source": [
    "############################################################\n",
    "# 변경 가능한 셀\n",
    "############################################################\n",
    "\n",
    "class MLP(torch.nn.Module):\n",
    "\n",
    "    def __init__(self, num_features, num_hidden_1, num_hidden_2, num_classes):\n",
    "        super(MLP, self).__init__()\n",
    "        \n",
    "        self.num_classes = num_classes\n",
    "        \n",
    "        ### 레이어 수 추가\n",
    "        self.linear_1 = torch.nn.Linear(num_features, num_hidden_1)\n",
    "        self.linear_2 = torch.nn.Linear(num_hidden_1, num_hidden_2)\n",
    "        self.linear_out = torch.nn.Linear(num_hidden_2, num_classes)\n",
    "        \n",
    "    def forward(self, x):\n",
    "        \n",
    "        ### activation 함수 변경 가능\n",
    "        ### 레이어간의 연결 추가, 변경\n",
    "        out = self.linear_1(x)\n",
    "        out = F.relu(out)\n",
    "        out = self.linear_2(out)\n",
    "        out = F.relu(out)\n",
    "\n",
    "        \n",
    "        # <your code> to set the layer and the activation function\n",
    "        \n",
    "        logits = self.linear_out(out)\n",
    "        probas = F.softmax(logits, dim=1)\n",
    "        return logits, probas\n",
    "\n",
    "    \n",
    "#################################\n",
    "### Model 초기화\n",
    "#################################\n",
    "\n",
    "# random seed는 무작위 가중치 초기화가 항상 같도록 해줍니다.\n",
    "# 초기화된 가중치에 따라 같은 네트워크도 서로 다른 성능을 낼 수 있어서 \n",
    "# 실제 사용시에는 좋은 성능을 얻기 위해 여러가지 무작위 가중치를 시도해 볼 수 있습니다.\n",
    "# 그러나 이 과제에서는 변경하지 않습니다.\n",
    "random.seed(RANDOM_SEED)\n",
    "torch.manual_seed(RANDOM_SEED)\n",
    "\n",
    "### num_hidden_1, num_hidden_2 변경 가능, \n",
    "### 레이어를 더 추가하고 싶다면 이부분을 알맞게 수정하세요.\n",
    "model = MLP(num_features=28*28,\n",
    "            num_hidden_1=128,\n",
    "            num_hidden_2=64,\n",
    "            num_classes=10)\n",
    "\n",
    "model = model.to(DEVICE)"
   ]
  },
  {
   "cell_type": "markdown",
   "metadata": {
    "id": "Xeh7I-iuX7Pq"
   },
   "source": [
    "## 4) Training"
   ]
  },
  {
   "cell_type": "code",
   "execution_count": 10,
   "metadata": {
    "id": "BgmdAHe-X7Pq"
   },
   "outputs": [],
   "source": [
    "############################################################\n",
    "# 변경 가능한 셀\n",
    "############################################################\n",
    "\n",
    "### Optimizer는 가중치를 업데이트하는 방법을 바꾸어 더 빠르게 좋은 성능을 낼 수 있도록합니다.\n",
    "### 이 과제에서는 optimizer를 변경하지 않습니다. \n",
    "### 그러나 Learning Rate(lr)는 변경이 가능합니다.\n",
    "optimizer = torch.optim.SGD(model.parameters(), lr=0.1)\n",
    "############################################################"
   ]
  },
  {
   "cell_type": "code",
   "execution_count": 11,
   "metadata": {
    "id": "V6chbcLUX7Ps"
   },
   "outputs": [],
   "source": [
    "############################################################\n",
    "# 변경 가능한 셀\n",
    "############################################################\n",
    "\n",
    "NUM_EPOCHS = 10 # 변경 가능\n",
    "############################################################"
   ]
  },
  {
   "cell_type": "code",
   "execution_count": 12,
   "metadata": {
    "colab": {
     "base_uri": "https://localhost:8080/"
    },
    "id": "TpO9eaPfX7Pu",
    "outputId": "57906158-9f81-453e-b1d8-1008fd1369cb"
   },
   "outputs": [
    {
     "name": "stdout",
     "output_type": "stream",
     "text": [
      "Epoch: 001/010 | Batch 000/937 | Cost: 2.2941\n",
      "Epoch: 001/010 | Batch 040/937 | Cost: 0.8961\n",
      "Epoch: 001/010 | Batch 080/937 | Cost: 0.9970\n",
      "Epoch: 001/010 | Batch 120/937 | Cost: 0.9838\n",
      "Epoch: 001/010 | Batch 160/937 | Cost: 0.7042\n",
      "Epoch: 001/010 | Batch 200/937 | Cost: 0.7727\n",
      "Epoch: 001/010 | Batch 240/937 | Cost: 0.8267\n",
      "Epoch: 001/010 | Batch 280/937 | Cost: 0.5661\n",
      "Epoch: 001/010 | Batch 320/937 | Cost: 0.5548\n",
      "Epoch: 001/010 | Batch 360/937 | Cost: 0.5231\n",
      "Epoch: 001/010 | Batch 400/937 | Cost: 0.4548\n",
      "Epoch: 001/010 | Batch 440/937 | Cost: 0.4862\n",
      "Epoch: 001/010 | Batch 480/937 | Cost: 0.4290\n",
      "Epoch: 001/010 | Batch 520/937 | Cost: 0.5066\n",
      "Epoch: 001/010 | Batch 560/937 | Cost: 0.3298\n",
      "Epoch: 001/010 | Batch 600/937 | Cost: 0.4835\n",
      "Epoch: 001/010 | Batch 640/937 | Cost: 0.3357\n",
      "Epoch: 001/010 | Batch 680/937 | Cost: 0.3666\n",
      "Epoch: 001/010 | Batch 720/937 | Cost: 0.6409\n",
      "Epoch: 001/010 | Batch 760/937 | Cost: 0.4731\n",
      "Epoch: 001/010 | Batch 800/937 | Cost: 0.3512\n",
      "Epoch: 001/010 | Batch 840/937 | Cost: 0.4348\n",
      "Epoch: 001/010 | Batch 880/937 | Cost: 0.3825\n",
      "Epoch: 001/010 | Batch 920/937 | Cost: 0.6221\n",
      "Epoch: 001/010 Train Acc.: 83.72% | Test Acc.: 82.20%\n",
      "Time elapsed: 0.69 min\n",
      "Epoch: 002/010 | Batch 000/937 | Cost: 0.4243\n",
      "Epoch: 002/010 | Batch 040/937 | Cost: 0.3997\n",
      "Epoch: 002/010 | Batch 080/937 | Cost: 0.5364\n",
      "Epoch: 002/010 | Batch 120/937 | Cost: 0.2277\n",
      "Epoch: 002/010 | Batch 160/937 | Cost: 0.4403\n",
      "Epoch: 002/010 | Batch 200/937 | Cost: 0.5049\n",
      "Epoch: 002/010 | Batch 240/937 | Cost: 0.3208\n",
      "Epoch: 002/010 | Batch 280/937 | Cost: 0.1441\n",
      "Epoch: 002/010 | Batch 320/937 | Cost: 0.5313\n",
      "Epoch: 002/010 | Batch 360/937 | Cost: 0.4644\n",
      "Epoch: 002/010 | Batch 400/937 | Cost: 0.4196\n",
      "Epoch: 002/010 | Batch 440/937 | Cost: 0.4994\n",
      "Epoch: 002/010 | Batch 480/937 | Cost: 0.5194\n",
      "Epoch: 002/010 | Batch 520/937 | Cost: 0.4583\n",
      "Epoch: 002/010 | Batch 560/937 | Cost: 0.4374\n",
      "Epoch: 002/010 | Batch 600/937 | Cost: 0.4354\n",
      "Epoch: 002/010 | Batch 640/937 | Cost: 0.3783\n",
      "Epoch: 002/010 | Batch 680/937 | Cost: 0.4302\n",
      "Epoch: 002/010 | Batch 720/937 | Cost: 0.4589\n",
      "Epoch: 002/010 | Batch 760/937 | Cost: 0.3460\n",
      "Epoch: 002/010 | Batch 800/937 | Cost: 0.4165\n",
      "Epoch: 002/010 | Batch 840/937 | Cost: 0.3252\n",
      "Epoch: 002/010 | Batch 880/937 | Cost: 0.2882\n",
      "Epoch: 002/010 | Batch 920/937 | Cost: 0.4151\n",
      "Epoch: 002/010 Train Acc.: 87.30% | Test Acc.: 85.68%\n",
      "Time elapsed: 1.38 min\n",
      "Epoch: 003/010 | Batch 000/937 | Cost: 0.3933\n",
      "Epoch: 003/010 | Batch 040/937 | Cost: 0.4483\n",
      "Epoch: 003/010 | Batch 080/937 | Cost: 0.3063\n",
      "Epoch: 003/010 | Batch 120/937 | Cost: 0.2880\n",
      "Epoch: 003/010 | Batch 160/937 | Cost: 0.2937\n",
      "Epoch: 003/010 | Batch 200/937 | Cost: 0.3180\n",
      "Epoch: 003/010 | Batch 240/937 | Cost: 0.2284\n",
      "Epoch: 003/010 | Batch 280/937 | Cost: 0.3532\n",
      "Epoch: 003/010 | Batch 320/937 | Cost: 0.3005\n",
      "Epoch: 003/010 | Batch 360/937 | Cost: 0.2501\n",
      "Epoch: 003/010 | Batch 400/937 | Cost: 0.3317\n",
      "Epoch: 003/010 | Batch 440/937 | Cost: 0.3214\n",
      "Epoch: 003/010 | Batch 480/937 | Cost: 0.3299\n",
      "Epoch: 003/010 | Batch 520/937 | Cost: 0.3430\n",
      "Epoch: 003/010 | Batch 560/937 | Cost: 0.3730\n",
      "Epoch: 003/010 | Batch 600/937 | Cost: 0.4226\n",
      "Epoch: 003/010 | Batch 640/937 | Cost: 0.5777\n",
      "Epoch: 003/010 | Batch 680/937 | Cost: 0.4222\n",
      "Epoch: 003/010 | Batch 720/937 | Cost: 0.3073\n",
      "Epoch: 003/010 | Batch 760/937 | Cost: 0.5554\n",
      "Epoch: 003/010 | Batch 800/937 | Cost: 0.3512\n",
      "Epoch: 003/010 | Batch 840/937 | Cost: 0.2725\n",
      "Epoch: 003/010 | Batch 880/937 | Cost: 0.2953\n",
      "Epoch: 003/010 | Batch 920/937 | Cost: 0.3375\n",
      "Epoch: 003/010 Train Acc.: 86.99% | Test Acc.: 85.37%\n",
      "Time elapsed: 2.06 min\n",
      "Epoch: 004/010 | Batch 000/937 | Cost: 0.3398\n",
      "Epoch: 004/010 | Batch 040/937 | Cost: 0.2665\n",
      "Epoch: 004/010 | Batch 080/937 | Cost: 0.2188\n",
      "Epoch: 004/010 | Batch 120/937 | Cost: 0.2643\n",
      "Epoch: 004/010 | Batch 160/937 | Cost: 0.3686\n",
      "Epoch: 004/010 | Batch 200/937 | Cost: 0.2630\n",
      "Epoch: 004/010 | Batch 240/937 | Cost: 0.5000\n",
      "Epoch: 004/010 | Batch 280/937 | Cost: 0.5459\n",
      "Epoch: 004/010 | Batch 320/937 | Cost: 0.2841\n",
      "Epoch: 004/010 | Batch 360/937 | Cost: 0.3863\n",
      "Epoch: 004/010 | Batch 400/937 | Cost: 0.3798\n",
      "Epoch: 004/010 | Batch 440/937 | Cost: 0.1937\n",
      "Epoch: 004/010 | Batch 480/937 | Cost: 0.2896\n",
      "Epoch: 004/010 | Batch 520/937 | Cost: 0.3226\n",
      "Epoch: 004/010 | Batch 560/937 | Cost: 0.3084\n",
      "Epoch: 004/010 | Batch 600/937 | Cost: 0.4358\n",
      "Epoch: 004/010 | Batch 640/937 | Cost: 0.4546\n",
      "Epoch: 004/010 | Batch 680/937 | Cost: 0.3280\n",
      "Epoch: 004/010 | Batch 720/937 | Cost: 0.2940\n",
      "Epoch: 004/010 | Batch 760/937 | Cost: 0.1872\n",
      "Epoch: 004/010 | Batch 800/937 | Cost: 0.3228\n",
      "Epoch: 004/010 | Batch 840/937 | Cost: 0.3304\n",
      "Epoch: 004/010 | Batch 880/937 | Cost: 0.2689\n",
      "Epoch: 004/010 | Batch 920/937 | Cost: 0.5523\n",
      "Epoch: 004/010 Train Acc.: 88.23% | Test Acc.: 86.26%\n",
      "Time elapsed: 2.74 min\n",
      "Epoch: 005/010 | Batch 000/937 | Cost: 0.3992\n",
      "Epoch: 005/010 | Batch 040/937 | Cost: 0.4077\n",
      "Epoch: 005/010 | Batch 080/937 | Cost: 0.3319\n",
      "Epoch: 005/010 | Batch 120/937 | Cost: 0.2337\n",
      "Epoch: 005/010 | Batch 160/937 | Cost: 0.2691\n",
      "Epoch: 005/010 | Batch 200/937 | Cost: 0.3211\n",
      "Epoch: 005/010 | Batch 240/937 | Cost: 0.2108\n",
      "Epoch: 005/010 | Batch 280/937 | Cost: 0.1484\n",
      "Epoch: 005/010 | Batch 320/937 | Cost: 0.2423\n",
      "Epoch: 005/010 | Batch 360/937 | Cost: 0.2269\n",
      "Epoch: 005/010 | Batch 400/937 | Cost: 0.3555\n",
      "Epoch: 005/010 | Batch 440/937 | Cost: 0.2040\n",
      "Epoch: 005/010 | Batch 480/937 | Cost: 0.2205\n",
      "Epoch: 005/010 | Batch 520/937 | Cost: 0.3913\n",
      "Epoch: 005/010 | Batch 560/937 | Cost: 0.3475\n",
      "Epoch: 005/010 | Batch 600/937 | Cost: 0.1765\n",
      "Epoch: 005/010 | Batch 640/937 | Cost: 0.2869\n",
      "Epoch: 005/010 | Batch 680/937 | Cost: 0.4840\n",
      "Epoch: 005/010 | Batch 720/937 | Cost: 0.3923\n",
      "Epoch: 005/010 | Batch 760/937 | Cost: 0.3552\n",
      "Epoch: 005/010 | Batch 800/937 | Cost: 0.2391\n",
      "Epoch: 005/010 | Batch 840/937 | Cost: 0.2648\n",
      "Epoch: 005/010 | Batch 880/937 | Cost: 0.2493\n",
      "Epoch: 005/010 | Batch 920/937 | Cost: 0.3302\n",
      "Epoch: 005/010 Train Acc.: 88.11% | Test Acc.: 85.94%\n",
      "Time elapsed: 3.44 min\n",
      "Epoch: 006/010 | Batch 000/937 | Cost: 0.5617\n",
      "Epoch: 006/010 | Batch 040/937 | Cost: 0.4026\n",
      "Epoch: 006/010 | Batch 080/937 | Cost: 0.3976\n",
      "Epoch: 006/010 | Batch 120/937 | Cost: 0.3308\n",
      "Epoch: 006/010 | Batch 160/937 | Cost: 0.2718\n",
      "Epoch: 006/010 | Batch 200/937 | Cost: 0.1372\n",
      "Epoch: 006/010 | Batch 240/937 | Cost: 0.1361\n",
      "Epoch: 006/010 | Batch 280/937 | Cost: 0.6242\n",
      "Epoch: 006/010 | Batch 320/937 | Cost: 0.2512\n",
      "Epoch: 006/010 | Batch 360/937 | Cost: 0.2786\n",
      "Epoch: 006/010 | Batch 400/937 | Cost: 0.3102\n",
      "Epoch: 006/010 | Batch 440/937 | Cost: 0.2867\n",
      "Epoch: 006/010 | Batch 480/937 | Cost: 0.3149\n",
      "Epoch: 006/010 | Batch 520/937 | Cost: 0.2386\n",
      "Epoch: 006/010 | Batch 560/937 | Cost: 0.2657\n",
      "Epoch: 006/010 | Batch 600/937 | Cost: 0.3049\n",
      "Epoch: 006/010 | Batch 640/937 | Cost: 0.2732\n",
      "Epoch: 006/010 | Batch 680/937 | Cost: 0.2014\n",
      "Epoch: 006/010 | Batch 720/937 | Cost: 0.2117\n",
      "Epoch: 006/010 | Batch 760/937 | Cost: 0.2704\n",
      "Epoch: 006/010 | Batch 800/937 | Cost: 0.2654\n",
      "Epoch: 006/010 | Batch 840/937 | Cost: 0.2973\n",
      "Epoch: 006/010 | Batch 880/937 | Cost: 0.4496\n",
      "Epoch: 006/010 | Batch 920/937 | Cost: 0.2452\n",
      "Epoch: 006/010 Train Acc.: 89.38% | Test Acc.: 86.90%\n",
      "Time elapsed: 4.12 min\n",
      "Epoch: 007/010 | Batch 000/937 | Cost: 0.2707\n",
      "Epoch: 007/010 | Batch 040/937 | Cost: 0.2717\n",
      "Epoch: 007/010 | Batch 080/937 | Cost: 0.2469\n",
      "Epoch: 007/010 | Batch 120/937 | Cost: 0.3315\n",
      "Epoch: 007/010 | Batch 160/937 | Cost: 0.4179\n",
      "Epoch: 007/010 | Batch 200/937 | Cost: 0.2975\n",
      "Epoch: 007/010 | Batch 240/937 | Cost: 0.3495\n",
      "Epoch: 007/010 | Batch 280/937 | Cost: 0.2735\n",
      "Epoch: 007/010 | Batch 320/937 | Cost: 0.3991\n",
      "Epoch: 007/010 | Batch 360/937 | Cost: 0.2317\n",
      "Epoch: 007/010 | Batch 400/937 | Cost: 0.5347\n",
      "Epoch: 007/010 | Batch 440/937 | Cost: 0.3325\n",
      "Epoch: 007/010 | Batch 480/937 | Cost: 0.4811\n",
      "Epoch: 007/010 | Batch 520/937 | Cost: 0.3308\n",
      "Epoch: 007/010 | Batch 560/937 | Cost: 0.3787\n",
      "Epoch: 007/010 | Batch 600/937 | Cost: 0.2861\n",
      "Epoch: 007/010 | Batch 640/937 | Cost: 0.3039\n",
      "Epoch: 007/010 | Batch 680/937 | Cost: 0.2929\n",
      "Epoch: 007/010 | Batch 720/937 | Cost: 0.3651\n",
      "Epoch: 007/010 | Batch 760/937 | Cost: 0.2210\n",
      "Epoch: 007/010 | Batch 800/937 | Cost: 0.4260\n",
      "Epoch: 007/010 | Batch 840/937 | Cost: 0.3679\n",
      "Epoch: 007/010 | Batch 880/937 | Cost: 0.1563\n",
      "Epoch: 007/010 | Batch 920/937 | Cost: 0.1995\n",
      "Epoch: 007/010 Train Acc.: 89.79% | Test Acc.: 86.89%\n",
      "Time elapsed: 4.81 min\n"
     ]
    },
    {
     "name": "stdout",
     "output_type": "stream",
     "text": [
      "Epoch: 008/010 | Batch 000/937 | Cost: 0.2688\n",
      "Epoch: 008/010 | Batch 040/937 | Cost: 0.4716\n",
      "Epoch: 008/010 | Batch 080/937 | Cost: 0.2370\n",
      "Epoch: 008/010 | Batch 120/937 | Cost: 0.2819\n",
      "Epoch: 008/010 | Batch 160/937 | Cost: 0.2361\n",
      "Epoch: 008/010 | Batch 200/937 | Cost: 0.2909\n",
      "Epoch: 008/010 | Batch 240/937 | Cost: 0.2021\n",
      "Epoch: 008/010 | Batch 280/937 | Cost: 0.3418\n",
      "Epoch: 008/010 | Batch 320/937 | Cost: 0.3385\n",
      "Epoch: 008/010 | Batch 360/937 | Cost: 0.4102\n",
      "Epoch: 008/010 | Batch 400/937 | Cost: 0.2670\n",
      "Epoch: 008/010 | Batch 440/937 | Cost: 0.3525\n",
      "Epoch: 008/010 | Batch 480/937 | Cost: 0.2949\n",
      "Epoch: 008/010 | Batch 520/937 | Cost: 0.2062\n",
      "Epoch: 008/010 | Batch 560/937 | Cost: 0.2087\n",
      "Epoch: 008/010 | Batch 600/937 | Cost: 0.3233\n",
      "Epoch: 008/010 | Batch 640/937 | Cost: 0.3327\n",
      "Epoch: 008/010 | Batch 680/937 | Cost: 0.2577\n",
      "Epoch: 008/010 | Batch 720/937 | Cost: 0.1562\n",
      "Epoch: 008/010 | Batch 760/937 | Cost: 0.3446\n",
      "Epoch: 008/010 | Batch 800/937 | Cost: 0.1276\n",
      "Epoch: 008/010 | Batch 840/937 | Cost: 0.3656\n",
      "Epoch: 008/010 | Batch 880/937 | Cost: 0.2481\n",
      "Epoch: 008/010 | Batch 920/937 | Cost: 0.3594\n",
      "Epoch: 008/010 Train Acc.: 89.25% | Test Acc.: 86.53%\n",
      "Time elapsed: 5.50 min\n",
      "Epoch: 009/010 | Batch 000/937 | Cost: 0.2261\n",
      "Epoch: 009/010 | Batch 040/937 | Cost: 0.2433\n",
      "Epoch: 009/010 | Batch 080/937 | Cost: 0.2009\n",
      "Epoch: 009/010 | Batch 120/937 | Cost: 0.1156\n",
      "Epoch: 009/010 | Batch 160/937 | Cost: 0.1626\n",
      "Epoch: 009/010 | Batch 200/937 | Cost: 0.3375\n",
      "Epoch: 009/010 | Batch 240/937 | Cost: 0.1874\n",
      "Epoch: 009/010 | Batch 280/937 | Cost: 0.4711\n",
      "Epoch: 009/010 | Batch 320/937 | Cost: 0.2375\n",
      "Epoch: 009/010 | Batch 360/937 | Cost: 0.1928\n",
      "Epoch: 009/010 | Batch 400/937 | Cost: 0.2370\n",
      "Epoch: 009/010 | Batch 440/937 | Cost: 0.1999\n",
      "Epoch: 009/010 | Batch 480/937 | Cost: 0.2592\n",
      "Epoch: 009/010 | Batch 520/937 | Cost: 0.3857\n",
      "Epoch: 009/010 | Batch 560/937 | Cost: 0.2723\n",
      "Epoch: 009/010 | Batch 600/937 | Cost: 0.2256\n",
      "Epoch: 009/010 | Batch 640/937 | Cost: 0.4626\n",
      "Epoch: 009/010 | Batch 680/937 | Cost: 0.3206\n",
      "Epoch: 009/010 | Batch 720/937 | Cost: 0.1673\n",
      "Epoch: 009/010 | Batch 760/937 | Cost: 0.2021\n",
      "Epoch: 009/010 | Batch 800/937 | Cost: 0.3190\n",
      "Epoch: 009/010 | Batch 840/937 | Cost: 0.2091\n",
      "Epoch: 009/010 | Batch 880/937 | Cost: 0.1554\n",
      "Epoch: 009/010 | Batch 920/937 | Cost: 0.1993\n",
      "Epoch: 009/010 Train Acc.: 90.52% | Test Acc.: 87.87%\n",
      "Time elapsed: 6.22 min\n",
      "Epoch: 010/010 | Batch 000/937 | Cost: 0.1795\n",
      "Epoch: 010/010 | Batch 040/937 | Cost: 0.2371\n",
      "Epoch: 010/010 | Batch 080/937 | Cost: 0.2937\n",
      "Epoch: 010/010 | Batch 120/937 | Cost: 0.3463\n",
      "Epoch: 010/010 | Batch 160/937 | Cost: 0.3138\n",
      "Epoch: 010/010 | Batch 200/937 | Cost: 0.1552\n",
      "Epoch: 010/010 | Batch 240/937 | Cost: 0.1488\n",
      "Epoch: 010/010 | Batch 280/937 | Cost: 0.4023\n",
      "Epoch: 010/010 | Batch 320/937 | Cost: 0.3181\n",
      "Epoch: 010/010 | Batch 360/937 | Cost: 0.1322\n",
      "Epoch: 010/010 | Batch 400/937 | Cost: 0.1942\n",
      "Epoch: 010/010 | Batch 440/937 | Cost: 0.1351\n",
      "Epoch: 010/010 | Batch 480/937 | Cost: 0.1920\n",
      "Epoch: 010/010 | Batch 520/937 | Cost: 0.2750\n",
      "Epoch: 010/010 | Batch 560/937 | Cost: 0.3956\n",
      "Epoch: 010/010 | Batch 600/937 | Cost: 0.1541\n",
      "Epoch: 010/010 | Batch 640/937 | Cost: 0.2387\n",
      "Epoch: 010/010 | Batch 680/937 | Cost: 0.2243\n",
      "Epoch: 010/010 | Batch 720/937 | Cost: 0.2595\n",
      "Epoch: 010/010 | Batch 760/937 | Cost: 0.1717\n",
      "Epoch: 010/010 | Batch 800/937 | Cost: 0.2062\n",
      "Epoch: 010/010 | Batch 840/937 | Cost: 0.2135\n",
      "Epoch: 010/010 | Batch 880/937 | Cost: 0.3009\n",
      "Epoch: 010/010 | Batch 920/937 | Cost: 0.2400\n",
      "Epoch: 010/010 Train Acc.: 91.34% | Test Acc.: 88.05%\n",
      "Time elapsed: 6.91 min\n",
      "Total Training Time: 6.91 min\n"
     ]
    }
   ],
   "source": [
    "def compute_accuracy_and_loss(model, data_loader, device):\n",
    "    correct_pred, num_examples = 0, 0\n",
    "    cross_entropy = 0.\n",
    "    for i, (features, targets) in enumerate(data_loader):\n",
    "            \n",
    "        features = features.view(-1, 28*28).to(device)\n",
    "        targets = targets.to(device)\n",
    "\n",
    "        logits, probas = model(features)\n",
    "        cross_entropy += F.cross_entropy(logits, targets).item()\n",
    "        _, predicted_labels = torch.max(probas, 1)\n",
    "        num_examples += targets.size(0)\n",
    "        correct_pred += (predicted_labels == targets).sum()\n",
    "    return correct_pred.float()/num_examples * 100, cross_entropy/num_examples\n",
    "    \n",
    "\n",
    "start_time = time.time()\n",
    "train_acc_lst, test_acc_lst = [], []\n",
    "train_loss_lst, test_loss_lst = [], []\n",
    "\n",
    "for epoch in range(NUM_EPOCHS):\n",
    "    \n",
    "    model.train()\n",
    "    \n",
    "    for batch_idx, (features, targets) in enumerate(train_loader):\n",
    "    \n",
    "        ### PREPARE MINIBATCH\n",
    "        features = features.view(-1, 28*28).to(DEVICE)\n",
    "        targets = targets.to(DEVICE)\n",
    "            \n",
    "        ### FORWARD AND BACK PROP\n",
    "        logits, probas = model(features)\n",
    "        cost = F.cross_entropy(logits, targets)\n",
    "        optimizer.zero_grad()\n",
    "        \n",
    "        cost.backward()\n",
    "        \n",
    "        ### UPDATE MODEL PARAMETERS\n",
    "        optimizer.step()\n",
    "        \n",
    "        ### LOGGING\n",
    "        if not batch_idx % 40:\n",
    "            print (f'Epoch: {epoch+1:03d}/{NUM_EPOCHS:03d} | '\n",
    "                   f'Batch {batch_idx:03d}/{len(train_loader):03d} |' \n",
    "                   f' Cost: {cost:.4f}')\n",
    "\n",
    "    # no need to build the computation graph for backprop when computing accuracy\n",
    "    model.eval()\n",
    "    with torch.set_grad_enabled(False):\n",
    "        train_acc, train_loss = compute_accuracy_and_loss(model, train_loader, device=DEVICE)\n",
    "        test_acc, test_loss = compute_accuracy_and_loss(model, test_loader, device=DEVICE)\n",
    "        train_acc_lst.append(train_acc)\n",
    "        test_acc_lst.append(test_acc)\n",
    "        train_loss_lst.append(train_loss)\n",
    "        test_loss_lst.append(test_loss)\n",
    "        print(f'Epoch: {epoch+1:03d}/{NUM_EPOCHS:03d} Train Acc.: {train_acc:.2f}%'\n",
    "              f' | Test Acc.: {test_acc:.2f}%')\n",
    "        \n",
    "    elapsed = (time.time() - start_time)/60\n",
    "    print(f'Time elapsed: {elapsed:.2f} min')\n",
    "  \n",
    "elapsed = (time.time() - start_time)/60\n",
    "print(f'Total Training Time: {elapsed:.2f} min')"
   ]
  },
  {
   "cell_type": "markdown",
   "metadata": {
    "id": "ODh7XcLYX7Pv"
   },
   "source": [
    "## 5) Evaluation\n",
    "\n",
    "테스트 데이터와 학습 데이터의 Loss변화를 확인합니다."
   ]
  },
  {
   "cell_type": "code",
   "execution_count": 13,
   "metadata": {
    "colab": {
     "base_uri": "https://localhost:8080/",
     "height": 279
    },
    "id": "mYN0V-nHX7Pv",
    "outputId": "2357131c-4ae7-4b7e-b08f-dca2c001561b"
   },
   "outputs": [
    {
     "data": {
      "image/png": "[encoded data removed]",
      "text/plain": [
       "<Figure size 432x288 with 1 Axes>"
      ]
     },
     "metadata": {
      "needs_background": "light"
     },
     "output_type": "display_data"
    }
   ],
   "source": [
    "plt.plot(range(1, NUM_EPOCHS+1), train_loss_lst, label='Training loss')\n",
    "plt.plot(range(1, NUM_EPOCHS+1), test_loss_lst, label='Test loss')\n",
    "plt.legend(loc='upper right')\n",
    "plt.ylabel('Cross entropy')\n",
    "plt.xlabel('Epoch')\n",
    "plt.show()"
   ]
  },
  {
   "cell_type": "code",
   "execution_count": 14,
   "metadata": {
    "colab": {
     "base_uri": "https://localhost:8080/",
     "height": 281
    },
    "id": "LeQo6_SpX7Pw",
    "outputId": "5f5c0b27-2894-4bee-ebe7-b61d2f8c389a"
   },
   "outputs": [
    {
     "data": {
      "image/png": "[encoded data removed]",
      "text/plain": [
       "<Figure size 432x288 with 1 Axes>"
      ]
     },
     "metadata": {
      "needs_background": "light"
     },
     "output_type": "display_data"
    }
   ],
   "source": [
    "plt.plot(range(1, NUM_EPOCHS+1), train_acc_lst, label='Training accuracy')\n",
    "plt.plot(range(1, NUM_EPOCHS+1), test_acc_lst, label='Test accuracy')\n",
    "plt.legend(loc='upper left')\n",
    "plt.ylabel('Cross entropy')\n",
    "plt.xlabel('Epoch')\n",
    "plt.show()"
   ]
  },
  {
   "cell_type": "code",
   "execution_count": 15,
   "metadata": {
    "colab": {
     "base_uri": "https://localhost:8080/"
    },
    "id": "jD5Nwxb6X7Pw",
    "outputId": "8891e75d-8d57-4b58-d2b0-81236b2133c7"
   },
   "outputs": [
    {
     "name": "stdout",
     "output_type": "stream",
     "text": [
      "Test accuracy: 88.05%\n"
     ]
    }
   ],
   "source": [
    "model.eval()\n",
    "with torch.set_grad_enabled(False): # save memory during inference\n",
    "    test_acc, test_loss = compute_accuracy_and_loss(model, test_loader, DEVICE)\n",
    "    print(f'Test accuracy: {test_acc:.2f}%')"
   ]
  },
  {
   "cell_type": "markdown",
   "metadata": {
    "id": "JhNqN8HnX7Px"
   },
   "source": [
    "### 6) Discussion"
   ]
  },
  {
   "cell_type": "markdown",
   "metadata": {
    "id": "z9KIAb1wX7Py"
   },
   "source": [
    "**1) 학습, 테스트 정확도는 얼마인가요? (위 숫자를 복사하세요.)**"
   ]
  },
  {
   "cell_type": "markdown",
   "metadata": {
    "id": "g_1_EO-zX7Py"
   },
   "source": [
    "- Training: 91.34%\n",
    "- Test 88.05%"
   ]
  },
  {
   "cell_type": "markdown",
   "metadata": {
    "id": "Q4lYVmijX7Pz"
   },
   "source": [
    "**2) overfitting을 경험했나요? 만약 그랬다면 왜 그랬을지 적어보고, overfitting을 방지하기위한 간단한 방법은 무엇일까요?**"
   ]
  },
  {
   "cell_type": "markdown",
   "metadata": {
    "id": "8JEXQSq-X7Pz"
   },
   "source": [
    "*두개의 hidden layer의 activation을 relu로 변경하였습니다.\n",
    "learning rate를 0.1로 변경하였습니다."
   ]
  },
  {
   "cell_type": "markdown",
   "metadata": {
    "id": "wAkuDWulX7P0"
   },
   "source": [
    "예를 들면, \n",
    "\n",
    "- batch size를 256으로 변경\n",
    "- 두개의 hidden layers의 activation을 relu로 변경\n",
    "- learning rate를 0.2로 변경"
   ]
  },
  {
   "cell_type": "markdown",
   "metadata": {
    "id": "h2X5KUvoX7P1"
   },
   "source": [
    "**3) 만약 hidden layer 수가 늘어나면(3개 이상) 얻을 수 있는 장/단점은 무엇일까요?**"
   ]
  },
  {
   "cell_type": "markdown",
   "metadata": {
    "id": "6TBRM0QkX7P1"
   },
   "source": [
    "본 과제를 하면서 layer수를 3개로 늘렸을때 이점을 보지는 못하였습니다. 하지만 찾아본 결과, hidden layer의 개수가 많아지면 더욱 많은 문제를 해결할 수 있도록 학습 능력이 좋아지는 장점이 있습니다. 하지만, 망의 크기가 커지면 overfitting에 빠질 가능성이 높아지고, 신경망에 대한 학습 시간이 길어지는 문제가 발생하여 훈련데이터의 양또한 늘려야 합니다."
   ]
  },
  {
   "cell_type": "markdown",
   "metadata": {
    "id": "GN0YliUjX7P2"
   },
   "source": [
    "**4) 구현하면서 수정한 부분에 대해 작성하여 수정한 이유 및 성능향상이 생긴 이유에 대해 답해보세요.**"
   ]
  },
  {
   "cell_type": "markdown",
   "metadata": {
    "id": "ePmQqg76X7P2"
   },
   "source": [
    "시그모이드로 여러 layer를 쌓게 되면 출력층에서 멀어질수록 기울기가 거의 0인 몇몇노드에 의해 입력층쪽 대부분의 노드에서 기울기가 0이되어 gradient가 사라진다 합니다. 따라서 relu함수를 썼습니다. Relu함수는 대부분의 input값에 대해 기울기가 0이 아니게 되어 학습이 잘 된다 합니다.\n",
    "learning rate를 0.01로 두었을때 10epoch동안 너무 더디게 학습이 되어 learning rate를 0.1로 높였습니다.\n",
    "또한 batchsize를 올리고자 하였으나 이는 computer의 하드웨어적인 영향을 받는다 하여 batch size를 늘리지 않았습니다.\n",
    "깊을 수록 학습에 더 많은 데이터가 필요하고, 결국 학습이 제대로 안 되거나 오버피팅이 날 경우가 많다하여, 노드 수를  늘리고 레이어 수를 3개로 만들지는 않았습니다.\n",
    "\n"
   ]
  }
 ],
 "metadata": {
  "colab": {
   "collapsed_sections": [],
   "name": "P2-MLP.ipynb",
   "provenance": []
  },
  "kernelspec": {
   "display_name": "Python 3",
   "language": "python",
   "name": "python3"
  },
  "language_info": {
   "codemirror_mode": {
    "name": "ipython",
    "version": 3
   },
   "file_extension": ".py",
   "mimetype": "text/x-python",
   "name": "python",
   "nbconvert_exporter": "python",
   "pygments_lexer": "ipython3",
   "version": "3.8.8"
  }
 },
 "nbformat": 4,
 "nbformat_minor": 1
}
